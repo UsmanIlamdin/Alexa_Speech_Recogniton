{
  "nbformat": 4,
  "nbformat_minor": 0,
  "metadata": {
    "colab": {
      "name": "logistic-regression.ipynb",
      "provenance": [],
      "mount_file_id": "1QMehrJw2Q1NpRJrSCWlCU7BfsdPlhl2c",
      "authorship_tag": "ABX9TyM6N6hpi823VGlV+gMifwkK",
      "include_colab_link": true
    },
    "kernelspec": {
      "name": "python3",
      "display_name": "Python 3"
    }
  },
  "cells": [
    {
      "cell_type": "markdown",
      "metadata": {
        "id": "view-in-github",
        "colab_type": "text"
      },
      "source": [
        "<a href=\"https://colab.research.google.com/github/UsmanIlamdin/Alexa_Speech_Recogniton/blob/master/logistic_regression.ipynb\" target=\"_parent\"><img src=\"https://colab.research.google.com/assets/colab-badge.svg\" alt=\"Open In Colab\"/></a>"
      ]
    },
    {
      "cell_type": "markdown",
      "metadata": {
        "id": "DmgROsetP2pR",
        "colab_type": "text"
      },
      "source": [
        "# Build a Logistic Regression Model with Sklearn"
      ]
    },
    {
      "cell_type": "markdown",
      "metadata": {
        "id": "XSKaPQpMQF1U",
        "colab_type": "text"
      },
      "source": [
        "We start by importing the Logistic Regression model"
      ]
    },
    {
      "cell_type": "code",
      "metadata": {
        "id": "0BfLbjR5QT6B",
        "colab_type": "code",
        "colab": {}
      },
      "source": [
        "import pandas as pd\n",
        "from sklearn.linear_model import LogisticRegression "
      ],
      "execution_count": 2,
      "outputs": []
    },
    {
      "cell_type": "markdown",
      "metadata": {
        "id": "VG8Q6H2vQYkS",
        "colab_type": "text"
      },
      "source": [
        "All sklearn models are built as Python classes. We first instantiate the class"
      ]
    },
    {
      "cell_type": "code",
      "metadata": {
        "id": "v-8H0dFCQczH",
        "colab_type": "code",
        "colab": {}
      },
      "source": [
        "model = LogisticRegression()"
      ],
      "execution_count": 3,
      "outputs": []
    },
    {
      "cell_type": "markdown",
      "metadata": {
        "id": "D7LqbYwUQhEM",
        "colab_type": "text"
      },
      "source": [
        "Now we can use our data that we previously prepared to train the model. The fit method is used for building the model. It takes two arguments: X (the features as a 2d numpy array) and y (the target as a 1d numpy array)."
      ]
    },
    {
      "cell_type": "markdown",
      "metadata": {
        "id": "or5HG-ohQmLd",
        "colab_type": "text"
      },
      "source": [
        "\n",
        "For simplicity, let’s first assume that we’re building a Logistic Regression model using just the Fare and Age columns. First we define X to be the feature matrix and y the target array."
      ]
    },
    {
      "cell_type": "markdown",
      "metadata": {
        "id": "htd-HEqAQ_z0",
        "colab_type": "text"
      },
      "source": [
        "# load data set"
      ]
    },
    {
      "cell_type": "code",
      "metadata": {
        "id": "AvNk-TxwRDF3",
        "colab_type": "code",
        "colab": {}
      },
      "source": [
        "df = pd.read_csv('/content/drive/My Drive/ml-exam/titanic.csv')"
      ],
      "execution_count": 4,
      "outputs": []
    },
    {
      "cell_type": "code",
      "metadata": {
        "id": "SJBv-UgJRu5o",
        "colab_type": "code",
        "colab": {
          "base_uri": "https://localhost:8080/",
          "height": 255
        },
        "outputId": "0e176643-ac28-477a-872a-6e6be8bc6e51"
      },
      "source": [
        "df.describe"
      ],
      "execution_count": 10,
      "outputs": [
        {
          "output_type": "execute_result",
          "data": {
            "text/plain": [
              "<bound method NDFrame.describe of      Survived  Pclass     Sex  ...  Parents/Children     Fare   male\n",
              "0           0       3    male  ...                 0   7.2500   True\n",
              "1           1       1  female  ...                 0  71.2833  False\n",
              "2           1       3  female  ...                 0   7.9250  False\n",
              "3           1       1  female  ...                 0  53.1000  False\n",
              "4           0       3    male  ...                 0   8.0500   True\n",
              "..        ...     ...     ...  ...               ...      ...    ...\n",
              "882         0       2    male  ...                 0  13.0000   True\n",
              "883         1       1  female  ...                 0  30.0000  False\n",
              "884         0       3  female  ...                 2  23.4500  False\n",
              "885         1       1    male  ...                 0  30.0000   True\n",
              "886         0       3    male  ...                 0   7.7500   True\n",
              "\n",
              "[887 rows x 8 columns]>"
            ]
          },
          "metadata": {
            "tags": []
          },
          "execution_count": 10
        }
      ]
    },
    {
      "cell_type": "code",
      "metadata": {
        "id": "mDK69-s9SDfY",
        "colab_type": "code",
        "colab": {
          "base_uri": "https://localhost:8080/",
          "height": 204
        },
        "outputId": "4beb481f-78bc-4508-b44a-57d9ec762021"
      },
      "source": [
        "df.head()"
      ],
      "execution_count": 12,
      "outputs": [
        {
          "output_type": "execute_result",
          "data": {
            "text/html": [
              "<div>\n",
              "<style scoped>\n",
              "    .dataframe tbody tr th:only-of-type {\n",
              "        vertical-align: middle;\n",
              "    }\n",
              "\n",
              "    .dataframe tbody tr th {\n",
              "        vertical-align: top;\n",
              "    }\n",
              "\n",
              "    .dataframe thead th {\n",
              "        text-align: right;\n",
              "    }\n",
              "</style>\n",
              "<table border=\"1\" class=\"dataframe\">\n",
              "  <thead>\n",
              "    <tr style=\"text-align: right;\">\n",
              "      <th></th>\n",
              "      <th>Survived</th>\n",
              "      <th>Pclass</th>\n",
              "      <th>Sex</th>\n",
              "      <th>Age</th>\n",
              "      <th>Siblings/Spouses</th>\n",
              "      <th>Parents/Children</th>\n",
              "      <th>Fare</th>\n",
              "      <th>male</th>\n",
              "    </tr>\n",
              "  </thead>\n",
              "  <tbody>\n",
              "    <tr>\n",
              "      <th>0</th>\n",
              "      <td>0</td>\n",
              "      <td>3</td>\n",
              "      <td>male</td>\n",
              "      <td>22.0</td>\n",
              "      <td>1</td>\n",
              "      <td>0</td>\n",
              "      <td>7.2500</td>\n",
              "      <td>True</td>\n",
              "    </tr>\n",
              "    <tr>\n",
              "      <th>1</th>\n",
              "      <td>1</td>\n",
              "      <td>1</td>\n",
              "      <td>female</td>\n",
              "      <td>38.0</td>\n",
              "      <td>1</td>\n",
              "      <td>0</td>\n",
              "      <td>71.2833</td>\n",
              "      <td>False</td>\n",
              "    </tr>\n",
              "    <tr>\n",
              "      <th>2</th>\n",
              "      <td>1</td>\n",
              "      <td>3</td>\n",
              "      <td>female</td>\n",
              "      <td>26.0</td>\n",
              "      <td>0</td>\n",
              "      <td>0</td>\n",
              "      <td>7.9250</td>\n",
              "      <td>False</td>\n",
              "    </tr>\n",
              "    <tr>\n",
              "      <th>3</th>\n",
              "      <td>1</td>\n",
              "      <td>1</td>\n",
              "      <td>female</td>\n",
              "      <td>35.0</td>\n",
              "      <td>1</td>\n",
              "      <td>0</td>\n",
              "      <td>53.1000</td>\n",
              "      <td>False</td>\n",
              "    </tr>\n",
              "    <tr>\n",
              "      <th>4</th>\n",
              "      <td>0</td>\n",
              "      <td>3</td>\n",
              "      <td>male</td>\n",
              "      <td>35.0</td>\n",
              "      <td>0</td>\n",
              "      <td>0</td>\n",
              "      <td>8.0500</td>\n",
              "      <td>True</td>\n",
              "    </tr>\n",
              "  </tbody>\n",
              "</table>\n",
              "</div>"
            ],
            "text/plain": [
              "   Survived  Pclass     Sex  ...  Parents/Children     Fare   male\n",
              "0         0       3    male  ...                 0   7.2500   True\n",
              "1         1       1  female  ...                 0  71.2833  False\n",
              "2         1       3  female  ...                 0   7.9250  False\n",
              "3         1       1  female  ...                 0  53.1000  False\n",
              "4         0       3    male  ...                 0   8.0500   True\n",
              "\n",
              "[5 rows x 8 columns]"
            ]
          },
          "metadata": {
            "tags": []
          },
          "execution_count": 12
        }
      ]
    },
    {
      "cell_type": "code",
      "metadata": {
        "id": "mVsk5ItmRpXg",
        "colab_type": "code",
        "colab": {}
      },
      "source": [
        "df['male'] = df['Sex'] == 'male'\n",
        "X = df[['Pclass', 'male', 'Age', 'Siblings/Spouses', 'Parents/Children', 'Fare']].values\n",
        "y = df['Survived'].values"
      ],
      "execution_count": 13,
      "outputs": []
    },
    {
      "cell_type": "code",
      "metadata": {
        "id": "DQg8rg-HSR38",
        "colab_type": "code",
        "colab": {
          "base_uri": "https://localhost:8080/",
          "height": 34
        },
        "outputId": "a871bc91-6117-460e-ab5e-b51d6ebc18c7"
      },
      "source": [
        "model.fit(X, y)\n",
        "\n",
        "print(model.predict([[3, True, 22.0, 1, 0, 7.25]]))"
      ],
      "execution_count": 15,
      "outputs": [
        {
          "output_type": "stream",
          "text": [
            "[0]\n"
          ],
          "name": "stdout"
        }
      ]
    },
    {
      "cell_type": "markdown",
      "metadata": {
        "id": "3xHv5_fdS16R",
        "colab_type": "text"
      },
      "source": [
        "Let’s see what the model predicts for the first 5 rows of data and compare it to our target array. We get the first 5 rows of data with X[:5] and the first 5 values of the target with y[:5].\n"
      ]
    },
    {
      "cell_type": "code",
      "metadata": {
        "id": "Z2m9QvkyS4qA",
        "colab_type": "code",
        "colab": {
          "base_uri": "https://localhost:8080/",
          "height": 51
        },
        "outputId": "8f01a854-c233-44ea-9db0-158670fb06e5"
      },
      "source": [
        "print(model.predict(X[:5]))\n",
        "print(y[:5])"
      ],
      "execution_count": 16,
      "outputs": [
        {
          "output_type": "stream",
          "text": [
            "[0 1 1 1 0]\n",
            "[0 1 1 1 0]\n"
          ],
          "name": "stdout"
        }
      ]
    }
  ]
}